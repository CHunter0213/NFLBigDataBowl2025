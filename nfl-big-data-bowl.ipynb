{
 "cells": [
  {
   "cell_type": "markdown",
   "id": "4c274a82",
   "metadata": {
    "papermill": {
     "duration": 0.002505,
     "end_time": "2024-11-13T21:06:41.245921",
     "exception": false,
     "start_time": "2024-11-13T21:06:41.243416",
     "status": "completed"
    },
    "tags": []
   },
   "source": [
    "# Introduction\n",
    "    Receiving targets have perhaps one of the most important roles in the game: to catch the ball and score points. Often this involves using their athleticism to beat their coverage to get themselves open for a pass from the quarterback, but other times the design of the play is to make it as easy as possible for the reciever to catch the ball through well placed blocks and tricks designed to make defenders blow their coverage. The fruit of this process always comes after the ball is snapped, but the groundwork is laid out through personel changes, formation switches, and puting players in motion in the forty seconds before the ball is snapped. \n",
    "\n",
    "    The goal of this paper is to identify what specific actions taken before the snap most effectively scheme a reciever open "
   ]
  },
  {
   "cell_type": "markdown",
   "id": "64c90b80",
   "metadata": {
    "papermill": {
     "duration": 0.001521,
     "end_time": "2024-11-13T21:06:41.249520",
     "exception": false,
     "start_time": "2024-11-13T21:06:41.247999",
     "status": "completed"
    },
    "tags": []
   },
   "source": []
  },
  {
   "cell_type": "markdown",
   "id": "53cdea5e",
   "metadata": {
    "papermill": {
     "duration": 0.00163,
     "end_time": "2024-11-13T21:06:41.252944",
     "exception": false,
     "start_time": "2024-11-13T21:06:41.251314",
     "status": "completed"
    },
    "tags": []
   },
   "source": []
  }
 ],
 "metadata": {
  "kaggle": {
   "accelerator": "none",
   "dataSources": [],
   "isGpuEnabled": false,
   "isInternetEnabled": false,
   "language": "python",
   "sourceType": "notebook"
  },
  "kernelspec": {
   "display_name": "Python 3",
   "language": "python",
   "name": "python3"
  },
  "language_info": {
   "codemirror_mode": {
    "name": "ipython",
    "version": 3
   },
   "file_extension": ".py",
   "mimetype": "text/x-python",
   "name": "python",
   "nbconvert_exporter": "python",
   "pygments_lexer": "ipython3",
   "version": "3.10.14"
  },
  "papermill": {
   "default_parameters": {},
   "duration": 3.183265,
   "end_time": "2024-11-13T21:06:41.575120",
   "environment_variables": {},
   "exception": null,
   "input_path": "__notebook__.ipynb",
   "output_path": "__notebook__.ipynb",
   "parameters": {},
   "start_time": "2024-11-13T21:06:38.391855",
   "version": "2.6.0"
  }
 },
 "nbformat": 4,
 "nbformat_minor": 5
}
